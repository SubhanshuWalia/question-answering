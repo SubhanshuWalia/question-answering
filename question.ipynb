question_answering = pipeline('question-answering')
question_answering
context = ''' 
Machine learning (ML) is the study of computer algorithms that improve automatically through experience. It is seen as a part of artificial intelligence. Machine learning algorithms build a model based on sample data, known as "training data", in order to make predictions or decisions without being explicitly programmed to do so. Machine learning algorithms are used in a wide variety of applications, such as email filtering and computer vision, where it is difficult or unfeasible to develop conventional algorithms to perform the needed tasks.
'''
question = 'Machine Learning is the study of?'
result = question_answering(question=question, context = context)
result
question_answering(question='What is sample data called?', context=context)
question_answering(question = 'Machine learning is used in?', context = context)
question_answering(question='What is computer vision?', context='''Computer vision is an interdisciplinary scientific field that deals with how computers can gain high-level understanding from digital images or videos. From the perspective of engineering, it seeks to understand and automate tasks that the human visual system can do.''')
